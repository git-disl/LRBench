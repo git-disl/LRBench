{
 "cells": [
  {
   "cell_type": "code",
   "execution_count": null,
   "id": "yellow-porter",
   "metadata": {},
   "outputs": [],
   "source": [
    "# install Ray Tune\n",
    "# !pip install -U \"ray[tune]\""
   ]
  },
  {
   "cell_type": "code",
   "execution_count": null,
   "id": "anticipated-sunday",
   "metadata": {},
   "outputs": [],
   "source": [
    "from ConfigurableNet import ConfigurableNet\n",
    "from ConvNet import ConvNet\n",
    "\n",
    "import torch\n",
    "import torchvision"
   ]
  },
  {
   "cell_type": "code",
   "execution_count": null,
   "id": "chinese-break",
   "metadata": {},
   "outputs": [],
   "source": [
    "convnet = ConvNet()\n",
    "Net = ConfigurableNet()\n",
    "config = {\n",
    "        \"lr_scale\": Net.tune.grid_search([0.001, 0.1]),\n",
    "        'lr_policy' : Net.tune.grid_search([\n",
    "                            {'lrPolicy': 'SINEXP', 'k0': 1.0, 'k1':3.0, 'l': 5, 'gamma':0.94},\n",
    "                            {'lrPolicy': 'SINEXP', 'k0': 0.5, 'k1':3.0, 'l': 5, 'gamma':0.94},\n",
    "                            {'lrPolicy': 'POLY', 'k0': 0.2, 'k1':1.0, 'p':1.2, 'l':30},\n",
    "                            {'lrPolicy': 'POLY', 'k0': 0.4, 'k1':1.0, 'p':1.2, 'l':30},\n",
    "                            {'lrPolicy': 'FIX'}]),\n",
    "        'batch_size': 64,\n",
    "        'stop_iteration': Net.tune.grid_search([100, 200, 300]),\n",
    "        'user_option': {'accuracy_threshold': 0.95, 'head': 5}\n",
    "    }\n",
    "Net.set_space(torch, convnet, config, torch.optim)\n",
    "Net.data_loader(torch.utils.data.DataLoader, torchvision.datasets.MNIST , torchvision.transforms, \"~/data\")\n",
    "Net.run()"
   ]
  },
  {
   "cell_type": "code",
   "execution_count": null,
   "id": "charged-worcester",
   "metadata": {},
   "outputs": [],
   "source": []
  }
 ],
 "metadata": {
  "kernelspec": {
   "display_name": "Python 3",
   "language": "python",
   "name": "python3"
  }
 },
 "nbformat": 4,
 "nbformat_minor": 5
}
